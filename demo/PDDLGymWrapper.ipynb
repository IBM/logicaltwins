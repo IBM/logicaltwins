{
 "cells": [
  {
   "cell_type": "code",
   "execution_count": 1,
   "metadata": {
    "scrolled": true
   },
   "outputs": [
    {
     "name": "stdout",
     "output_type": "stream",
     "text": [
      "Processing /Users/mich/git/loa/third-party/pddlgym_textworld\n",
      "Requirement already satisfied: textworld>=1.4 in /usr/local/Caskroom/miniconda/base/envs/loa/lib/python3.8/site-packages (from pddlgym-textworld==0.1.1) (1.4.0)\n",
      "Requirement already satisfied: pddlgym>=0.0.2 in /usr/local/Caskroom/miniconda/base/envs/loa/lib/python3.8/site-packages (from pddlgym-textworld==0.1.1) (0.0.2)\n",
      "Requirement already satisfied: tqdm>=4.17.1 in /usr/local/Caskroom/miniconda/base/envs/loa/lib/python3.8/site-packages (from textworld>=1.4->pddlgym-textworld==0.1.1) (4.54.0)\n",
      "Requirement already satisfied: cffi>=1.0.0 in /usr/local/Caskroom/miniconda/base/envs/loa/lib/python3.8/site-packages (from textworld>=1.4->pddlgym-textworld==0.1.1) (1.14.4)\n",
      "Requirement already satisfied: more-itertools in /usr/local/Caskroom/miniconda/base/envs/loa/lib/python3.8/site-packages (from textworld>=1.4->pddlgym-textworld==0.1.1) (8.5.0)\n",
      "Requirement already satisfied: networkx>=2 in /usr/local/Caskroom/miniconda/base/envs/loa/lib/python3.8/site-packages (from textworld>=1.4->pddlgym-textworld==0.1.1) (2.4)\n",
      "Requirement already satisfied: tatsu>=4.3.0 in /usr/local/Caskroom/miniconda/base/envs/loa/lib/python3.8/site-packages (from textworld>=1.4->pddlgym-textworld==0.1.1) (5.5.0)\n",
      "Requirement already satisfied: gym>=0.10.11 in /usr/local/Caskroom/miniconda/base/envs/loa/lib/python3.8/site-packages (from textworld>=1.4->pddlgym-textworld==0.1.1) (0.17.3)\n",
      "Requirement already satisfied: numpy>=1.14.5 in /usr/local/Caskroom/miniconda/base/envs/loa/lib/python3.8/site-packages (from textworld>=1.4->pddlgym-textworld==0.1.1) (1.19.2)\n",
      "Requirement already satisfied: mementos>=1.3.1 in /usr/local/Caskroom/miniconda/base/envs/loa/lib/python3.8/site-packages (from textworld>=1.4->pddlgym-textworld==0.1.1) (1.3.1)\n",
      "Requirement already satisfied: jericho>=3.0.3 in /usr/local/Caskroom/miniconda/base/envs/loa/lib/python3.8/site-packages (from textworld>=1.4->pddlgym-textworld==0.1.1) (3.0.3)\n",
      "Requirement already satisfied: hashids>=1.2.0 in /usr/local/Caskroom/miniconda/base/envs/loa/lib/python3.8/site-packages (from textworld>=1.4->pddlgym-textworld==0.1.1) (1.3.1)\n",
      "Requirement already satisfied: prompt-toolkit in /usr/local/Caskroom/miniconda/base/envs/loa/lib/python3.8/site-packages (from textworld>=1.4->pddlgym-textworld==0.1.1) (3.0.8)\n",
      "Requirement already satisfied: matplotlib in /usr/local/Caskroom/miniconda/base/envs/loa/lib/python3.8/site-packages (from pddlgym>=0.0.2->pddlgym-textworld==0.1.1) (3.2.1)\n",
      "Requirement already satisfied: imageio in /usr/local/Caskroom/miniconda/base/envs/loa/lib/python3.8/site-packages (from pddlgym>=0.0.2->pddlgym-textworld==0.1.1) (2.9.0)\n",
      "Requirement already satisfied: pillow in /usr/local/Caskroom/miniconda/base/envs/loa/lib/python3.8/site-packages (from pddlgym>=0.0.2->pddlgym-textworld==0.1.1) (7.2.0)\n",
      "Requirement already satisfied: pycparser in /usr/local/Caskroom/miniconda/base/envs/loa/lib/python3.8/site-packages (from cffi>=1.0.0->textworld>=1.4->pddlgym-textworld==0.1.1) (2.20)\n",
      "Requirement already satisfied: decorator>=4.3.0 in /usr/local/Caskroom/miniconda/base/envs/loa/lib/python3.8/site-packages (from networkx>=2->textworld>=1.4->pddlgym-textworld==0.1.1) (4.4.2)\n",
      "Requirement already satisfied: pyglet<=1.5.0,>=1.4.0 in /usr/local/Caskroom/miniconda/base/envs/loa/lib/python3.8/site-packages (from gym>=0.10.11->textworld>=1.4->pddlgym-textworld==0.1.1) (1.5.0)\n",
      "Requirement already satisfied: cloudpickle<1.7.0,>=1.2.0 in /usr/local/Caskroom/miniconda/base/envs/loa/lib/python3.8/site-packages (from gym>=0.10.11->textworld>=1.4->pddlgym-textworld==0.1.1) (1.6.0)\n",
      "Requirement already satisfied: scipy in /usr/local/Caskroom/miniconda/base/envs/loa/lib/python3.8/site-packages (from gym>=0.10.11->textworld>=1.4->pddlgym-textworld==0.1.1) (1.5.2)\n",
      "Requirement already satisfied: spacy>=2.1.0 in /usr/local/Caskroom/miniconda/base/envs/loa/lib/python3.8/site-packages (from jericho>=3.0.3->textworld>=1.4->pddlgym-textworld==0.1.1) (2.3.2)\n",
      "Requirement already satisfied: wcwidth in /usr/local/Caskroom/miniconda/base/envs/loa/lib/python3.8/site-packages (from prompt-toolkit->textworld>=1.4->pddlgym-textworld==0.1.1) (0.2.5)\n",
      "Requirement already satisfied: pyparsing!=2.0.4,!=2.1.2,!=2.1.6,>=2.0.1 in /usr/local/Caskroom/miniconda/base/envs/loa/lib/python3.8/site-packages (from matplotlib->pddlgym>=0.0.2->pddlgym-textworld==0.1.1) (2.4.7)\n",
      "Requirement already satisfied: cycler>=0.10 in /usr/local/Caskroom/miniconda/base/envs/loa/lib/python3.8/site-packages (from matplotlib->pddlgym>=0.0.2->pddlgym-textworld==0.1.1) (0.10.0)\n",
      "Requirement already satisfied: python-dateutil>=2.1 in /usr/local/Caskroom/miniconda/base/envs/loa/lib/python3.8/site-packages (from matplotlib->pddlgym>=0.0.2->pddlgym-textworld==0.1.1) (2.8.1)\n",
      "Requirement already satisfied: kiwisolver>=1.0.1 in /usr/local/Caskroom/miniconda/base/envs/loa/lib/python3.8/site-packages (from matplotlib->pddlgym>=0.0.2->pddlgym-textworld==0.1.1) (1.2.0)\n",
      "Requirement already satisfied: future in /usr/local/Caskroom/miniconda/base/envs/loa/lib/python3.8/site-packages (from pyglet<=1.5.0,>=1.4.0->gym>=0.10.11->textworld>=1.4->pddlgym-textworld==0.1.1) (0.18.2)\n",
      "Requirement already satisfied: catalogue<1.1.0,>=0.0.7 in /usr/local/Caskroom/miniconda/base/envs/loa/lib/python3.8/site-packages (from spacy>=2.1.0->jericho>=3.0.3->textworld>=1.4->pddlgym-textworld==0.1.1) (1.0.0)\n",
      "Requirement already satisfied: requests<3.0.0,>=2.13.0 in /usr/local/Caskroom/miniconda/base/envs/loa/lib/python3.8/site-packages (from spacy>=2.1.0->jericho>=3.0.3->textworld>=1.4->pddlgym-textworld==0.1.1) (2.25.0)\n",
      "Requirement already satisfied: blis<0.5.0,>=0.4.0 in /usr/local/Caskroom/miniconda/base/envs/loa/lib/python3.8/site-packages (from spacy>=2.1.0->jericho>=3.0.3->textworld>=1.4->pddlgym-textworld==0.1.1) (0.4.1)\n",
      "Requirement already satisfied: cymem<2.1.0,>=2.0.2 in /usr/local/Caskroom/miniconda/base/envs/loa/lib/python3.8/site-packages (from spacy>=2.1.0->jericho>=3.0.3->textworld>=1.4->pddlgym-textworld==0.1.1) (2.0.4)\n",
      "Requirement already satisfied: setuptools in /usr/local/Caskroom/miniconda/base/envs/loa/lib/python3.8/site-packages (from spacy>=2.1.0->jericho>=3.0.3->textworld>=1.4->pddlgym-textworld==0.1.1) (49.6.0.post20200925)\n",
      "Requirement already satisfied: plac<1.2.0,>=0.9.6 in /usr/local/Caskroom/miniconda/base/envs/loa/lib/python3.8/site-packages (from spacy>=2.1.0->jericho>=3.0.3->textworld>=1.4->pddlgym-textworld==0.1.1) (1.1.3)\n",
      "Requirement already satisfied: thinc==7.4.1 in /usr/local/Caskroom/miniconda/base/envs/loa/lib/python3.8/site-packages (from spacy>=2.1.0->jericho>=3.0.3->textworld>=1.4->pddlgym-textworld==0.1.1) (7.4.1)\n",
      "Requirement already satisfied: preshed<3.1.0,>=3.0.2 in /usr/local/Caskroom/miniconda/base/envs/loa/lib/python3.8/site-packages (from spacy>=2.1.0->jericho>=3.0.3->textworld>=1.4->pddlgym-textworld==0.1.1) (3.0.2)\n",
      "Requirement already satisfied: murmurhash<1.1.0,>=0.28.0 in /usr/local/Caskroom/miniconda/base/envs/loa/lib/python3.8/site-packages (from spacy>=2.1.0->jericho>=3.0.3->textworld>=1.4->pddlgym-textworld==0.1.1) (1.0.2)\n",
      "Requirement already satisfied: wasabi<1.1.0,>=0.4.0 in /usr/local/Caskroom/miniconda/base/envs/loa/lib/python3.8/site-packages (from spacy>=2.1.0->jericho>=3.0.3->textworld>=1.4->pddlgym-textworld==0.1.1) (0.8.0)\n",
      "Requirement already satisfied: srsly<1.1.0,>=1.0.2 in /usr/local/Caskroom/miniconda/base/envs/loa/lib/python3.8/site-packages (from spacy>=2.1.0->jericho>=3.0.3->textworld>=1.4->pddlgym-textworld==0.1.1) (1.0.2)\n",
      "Requirement already satisfied: six in /usr/local/Caskroom/miniconda/base/envs/loa/lib/python3.8/site-packages (from cycler>=0.10->matplotlib->pddlgym>=0.0.2->pddlgym-textworld==0.1.1) (1.15.0)\n",
      "Requirement already satisfied: urllib3<1.27,>=1.21.1 in /usr/local/Caskroom/miniconda/base/envs/loa/lib/python3.8/site-packages (from requests<3.0.0,>=2.13.0->spacy>=2.1.0->jericho>=3.0.3->textworld>=1.4->pddlgym-textworld==0.1.1) (1.25.11)\n",
      "Requirement already satisfied: certifi>=2017.4.17 in /usr/local/Caskroom/miniconda/base/envs/loa/lib/python3.8/site-packages (from requests<3.0.0,>=2.13.0->spacy>=2.1.0->jericho>=3.0.3->textworld>=1.4->pddlgym-textworld==0.1.1) (2020.11.8)\n",
      "Requirement already satisfied: chardet<4,>=3.0.2 in /usr/local/Caskroom/miniconda/base/envs/loa/lib/python3.8/site-packages (from requests<3.0.0,>=2.13.0->spacy>=2.1.0->jericho>=3.0.3->textworld>=1.4->pddlgym-textworld==0.1.1) (3.0.4)\n",
      "Requirement already satisfied: idna<3,>=2.5 in /usr/local/Caskroom/miniconda/base/envs/loa/lib/python3.8/site-packages (from requests<3.0.0,>=2.13.0->spacy>=2.1.0->jericho>=3.0.3->textworld>=1.4->pddlgym-textworld==0.1.1) (2.10)\n",
      "Building wheels for collected packages: pddlgym-textworld\n"
     ]
    },
    {
     "name": "stdout",
     "output_type": "stream",
     "text": [
      "  Building wheel for pddlgym-textworld (setup.py) ... \u001b[?25ldone\n",
      "\u001b[?25h  Created wheel for pddlgym-textworld: filename=pddlgym_textworld-0.1.1-py3-none-any.whl size=13947 sha256=d05c0bd2455362b9e02aa6b011431777edc5d660113e9ac8997c606e879dc654\n",
      "  Stored in directory: /private/var/folders/zq/bxt60rfx66q24xdm0y8ks5dr0000gn/T/pip-ephem-wheel-cache-95w5g8ja/wheels/e3/ca/75/f44fb28ca78b384610fa324be0afc37d3710c27f2a5f67e088\n",
      "Successfully built pddlgym-textworld\n",
      "Installing collected packages: pddlgym-textworld\n",
      "  Attempting uninstall: pddlgym-textworld\n",
      "    Found existing installation: pddlgym-textworld 0.1.1\n",
      "    Uninstalling pddlgym-textworld-0.1.1:\n",
      "      Successfully uninstalled pddlgym-textworld-0.1.1\n",
      "Successfully installed pddlgym-textworld-0.1.1\n"
     ]
    }
   ],
   "source": [
    "!pip install ../"
   ]
  },
  {
   "cell_type": "code",
   "execution_count": 2,
   "metadata": {},
   "outputs": [],
   "source": [
    "gamefile = \"./demo_games/tw-cooking-test-take+cook+cut+open+go6-JrmLfNyMcErjF6LD.ulx\""
   ]
  },
  {
   "cell_type": "code",
   "execution_count": 3,
   "metadata": {
    "scrolled": true
   },
   "outputs": [],
   "source": [
    "import gym\n",
    "import textworld.gym\n",
    "from textworld import EnvInfos\n",
    "\n",
    "#request_infos = EnvInfos(description=True, inventory=True)\n",
    "request_infos = EnvInfos(description=True, inventory=True, entities=True, facts=True)\n",
    "env_id = textworld.gym.register_game(gamefile, request_infos)\n",
    "tw_env = gym.make(env_id)"
   ]
  },
  {
   "cell_type": "code",
   "execution_count": 4,
   "metadata": {},
   "outputs": [
    {
     "data": {
      "text/plain": [
       "pddlgym.structs.State"
      ]
     },
     "metadata": {},
     "output_type": "display_data"
    },
    {
     "data": {
      "text/plain": [
       "State(literals=frozenset({link(kitchen:r,frosted-glass door:d,pantry:r), cookable(purple potato:f), free(slot_0:slot), uncut(purple potato:f), at(counter:s,kitchen:r), cooking_location(kitchen:r,RECIPE:RECIPE), free(slot_1:slot), free(slot_8:slot), south_of(livingroom:r,corridor:r), free(corridor:r,bathroom:r), west_of(livingroom:r,kitchen:r), at(bed:s,bedroom:r), free(slot_4:slot), chopped(ingredient_0:ingredient), at(toilet:s,bathroom:r), out(meal:meal,RECIPE:RECIPE), east_of(bathroom:r,corridor:r), free(slot_9:slot), at(table:s,kitchen:r), at(shelf:s,pantry:r), free(bedroom:r,corridor:r), free(slot_7:slot), at(oven:oven,kitchen:r), free(livingroom:r,corridor:r), at(fridge:c,kitchen:r), edible(meal:meal), link(pantry:r,frosted-glass door:d,kitchen:r), on(purple potato:f,counter:s), cuttable(purple potato:f), at(stove:stove,kitchen:r), needs_cooking(yellow potato:f), at(sofa:s,livingroom:r), inedible(purple potato:f), free(kitchen:r,livingroom:r), free(corridor:r,bedroom:r), at(P:P,bedroom:r), closed(frosted-glass door:d), north_of(bedroom:r,corridor:r), needs_cooking(purple potato:f), west_of(corridor:r,bathroom:r), in(ingredient_0:ingredient,RECIPE:RECIPE), inedible(yellow potato:f), east_of(kitchen:r,livingroom:r), free(bathroom:r,corridor:r), free(slot_2:slot), cuttable(yellow potato:f), north_of(corridor:r,livingroom:r), ingredient_1(purple potato:f), on(cookbook:o,counter:s), base(purple potato:f,ingredient_0:ingredient), sharp(knife:o), east_of(pantry:r,kitchen:r), on(knife:o,table:s), cookable(yellow potato:f), closed(fridge:c), free(livingroom:r,kitchen:r), south_of(corridor:r,bedroom:r), west_of(kitchen:r,pantry:r), free(corridor:r,livingroom:r), free(slot_5:slot), roasted(ingredient_0:ingredient), uncut(yellow potato:f), free(slot_3:slot), free(slot_6:slot), on(yellow potato:f,counter:s)}), objects=frozenset({oven:oven, west:null, cookbook:o, sofa:s, knife:o, south:null, bed:s, meal:meal, frosted-glass door:d, table:s, north:null, yellow potato:f, stove:stove, east:null, purple potato:f, fridge:c, toilet:s, shelf:s, counter:s}), goal=None)"
      ]
     },
     "metadata": {},
     "output_type": "display_data"
    },
    {
     "data": {
      "text/plain": [
       "dict"
      ]
     },
     "metadata": {},
     "output_type": "display_data"
    },
    {
     "data": {
      "text/plain": [
       "{'description': \"-= Bedroom =-\\nWell, here we are in a bedroom. I guess you better just go and list everything you see here.\\n\\nHey, want to see a bed? Look over there, a bed. But oh no! there's nothing on this piece of garbage.\\n\\nThere is an unblocked exit to the south.\",\n",
       " 'facts': [Proposition('at', (Variable('P', 'P'), Variable('bedroom', 'r'))),\n",
       "  Proposition('at', (Variable('fridge', 'c'), Variable('kitchen', 'r'))),\n",
       "  Proposition('at', (Variable('oven', 'oven'), Variable('kitchen', 'r'))),\n",
       "  Proposition('at', (Variable('shelf', 's'), Variable('pantry', 'r'))),\n",
       "  Proposition('at', (Variable('sofa', 's'), Variable('livingroom', 'r'))),\n",
       "  Proposition('at', (Variable('counter', 's'), Variable('kitchen', 'r'))),\n",
       "  Proposition('at', (Variable('bed', 's'), Variable('bedroom', 'r'))),\n",
       "  Proposition('at', (Variable('table', 's'), Variable('kitchen', 'r'))),\n",
       "  Proposition('at', (Variable('toilet', 's'), Variable('bathroom', 'r'))),\n",
       "  Proposition('at', (Variable('stove', 'stove'), Variable('kitchen', 'r'))),\n",
       "  Proposition('base', (Variable('purple potato', 'f'), Variable('ingredient_0', 'ingredient'))),\n",
       "  Proposition('chopped', (Variable('ingredient_0', 'ingredient'),)),\n",
       "  Proposition('closed', (Variable('fridge', 'c'),)),\n",
       "  Proposition('closed', (Variable('frosted-glass door', 'd'),)),\n",
       "  Proposition('cookable', (Variable('yellow potato', 'f'),)),\n",
       "  Proposition('cookable', (Variable('purple potato', 'f'),)),\n",
       "  Proposition('cooking_location', (Variable('kitchen', 'r'), Variable('RECIPE', 'RECIPE'))),\n",
       "  Proposition('cuttable', (Variable('yellow potato', 'f'),)),\n",
       "  Proposition('cuttable', (Variable('purple potato', 'f'),)),\n",
       "  Proposition('east_of', (Variable('pantry', 'r'), Variable('kitchen', 'r'))),\n",
       "  Proposition('east_of', (Variable('kitchen', 'r'), Variable('livingroom', 'r'))),\n",
       "  Proposition('east_of', (Variable('bathroom', 'r'), Variable('corridor', 'r'))),\n",
       "  Proposition('edible', (Variable('meal', 'meal'),)),\n",
       "  Proposition('free', (Variable('corridor', 'r'), Variable('bathroom', 'r'))),\n",
       "  Proposition('free', (Variable('livingroom', 'r'), Variable('kitchen', 'r'))),\n",
       "  Proposition('free', (Variable('corridor', 'r'), Variable('bedroom', 'r'))),\n",
       "  Proposition('free', (Variable('bathroom', 'r'), Variable('corridor', 'r'))),\n",
       "  Proposition('free', (Variable('bedroom', 'r'), Variable('corridor', 'r'))),\n",
       "  Proposition('free', (Variable('livingroom', 'r'), Variable('corridor', 'r'))),\n",
       "  Proposition('free', (Variable('kitchen', 'r'), Variable('livingroom', 'r'))),\n",
       "  Proposition('free', (Variable('corridor', 'r'), Variable('livingroom', 'r'))),\n",
       "  Proposition('free', (Variable('slot_7', 'slot'),)),\n",
       "  Proposition('free', (Variable('slot_3', 'slot'),)),\n",
       "  Proposition('free', (Variable('slot_1', 'slot'),)),\n",
       "  Proposition('free', (Variable('slot_0', 'slot'),)),\n",
       "  Proposition('free', (Variable('slot_6', 'slot'),)),\n",
       "  Proposition('free', (Variable('slot_8', 'slot'),)),\n",
       "  Proposition('free', (Variable('slot_5', 'slot'),)),\n",
       "  Proposition('free', (Variable('slot_4', 'slot'),)),\n",
       "  Proposition('free', (Variable('slot_9', 'slot'),)),\n",
       "  Proposition('free', (Variable('slot_2', 'slot'),)),\n",
       "  Proposition('in', (Variable('ingredient_0', 'ingredient'), Variable('RECIPE', 'RECIPE'))),\n",
       "  Proposition('inedible', (Variable('yellow potato', 'f'),)),\n",
       "  Proposition('inedible', (Variable('purple potato', 'f'),)),\n",
       "  Proposition('ingredient_1', (Variable('purple potato', 'f'),)),\n",
       "  Proposition('link', (Variable('pantry', 'r'), Variable('frosted-glass door', 'd'), Variable('kitchen', 'r'))),\n",
       "  Proposition('link', (Variable('kitchen', 'r'), Variable('frosted-glass door', 'd'), Variable('pantry', 'r'))),\n",
       "  Proposition('needs_cooking', (Variable('yellow potato', 'f'),)),\n",
       "  Proposition('needs_cooking', (Variable('purple potato', 'f'),)),\n",
       "  Proposition('north_of', (Variable('bedroom', 'r'), Variable('corridor', 'r'))),\n",
       "  Proposition('north_of', (Variable('corridor', 'r'), Variable('livingroom', 'r'))),\n",
       "  Proposition('on', (Variable('purple potato', 'f'), Variable('counter', 's'))),\n",
       "  Proposition('on', (Variable('yellow potato', 'f'), Variable('counter', 's'))),\n",
       "  Proposition('on', (Variable('cookbook', 'o'), Variable('counter', 's'))),\n",
       "  Proposition('on', (Variable('knife', 'o'), Variable('table', 's'))),\n",
       "  Proposition('out', (Variable('meal', 'meal'), Variable('RECIPE', 'RECIPE'))),\n",
       "  Proposition('roasted', (Variable('ingredient_0', 'ingredient'),)),\n",
       "  Proposition('sharp', (Variable('knife', 'o'),)),\n",
       "  Proposition('south_of', (Variable('livingroom', 'r'), Variable('corridor', 'r'))),\n",
       "  Proposition('south_of', (Variable('corridor', 'r'), Variable('bedroom', 'r'))),\n",
       "  Proposition('uncut', (Variable('yellow potato', 'f'),)),\n",
       "  Proposition('uncut', (Variable('purple potato', 'f'),)),\n",
       "  Proposition('west_of', (Variable('corridor', 'r'), Variable('bathroom', 'r'))),\n",
       "  Proposition('west_of', (Variable('kitchen', 'r'), Variable('pantry', 'r'))),\n",
       "  Proposition('west_of', (Variable('livingroom', 'r'), Variable('kitchen', 'r')))],\n",
       " 'entities': ['frosted-glass door',\n",
       "  'fridge',\n",
       "  'oven',\n",
       "  'table',\n",
       "  'counter',\n",
       "  'shelf',\n",
       "  'sofa',\n",
       "  'bed',\n",
       "  'toilet',\n",
       "  'stove',\n",
       "  'purple potato',\n",
       "  'yellow potato',\n",
       "  'meal',\n",
       "  'cookbook',\n",
       "  'knife',\n",
       "  'north',\n",
       "  'south',\n",
       "  'east',\n",
       "  'west'],\n",
       " 'inventory': 'You are carrying nothing.'}"
      ]
     },
     "metadata": {},
     "output_type": "display_data"
    }
   ],
   "source": [
    "from pddlgym_textworld import TextWorldWrapper\n",
    "\n",
    "env = TextWorldWrapper(tw_env)\n",
    "\n",
    "ob, infos = env.reset()\n",
    "\n",
    "display(type(ob))\n",
    "display(ob)\n",
    "\n",
    "display(type(infos))\n",
    "display(infos)"
   ]
  },
  {
   "cell_type": "markdown",
   "metadata": {},
   "source": [
    "We haven't implemented space description yet."
   ]
  },
  {
   "cell_type": "code",
   "execution_count": 5,
   "metadata": {},
   "outputs": [
    {
     "data": {
      "text/plain": [
       "None"
      ]
     },
     "metadata": {},
     "output_type": "display_data"
    },
    {
     "data": {
      "text/plain": [
       "None"
      ]
     },
     "metadata": {},
     "output_type": "display_data"
    }
   ],
   "source": [
    "display(env.action_space)\n",
    "display(env.observation_space)\n",
    "#display(env.reward_space)\n",
    "\n",
    "#import textworld.gym.spaces\n",
    "\n",
    "#env._action_space = textworld.gym.spaces.Char(256)\n",
    "#env._observation_space = textworld.gym.spaces.Char(4096)"
   ]
  },
  {
   "cell_type": "code",
   "execution_count": 6,
   "metadata": {
    "scrolled": true
   },
   "outputs": [
    {
     "data": {
      "image/png": "[encoded data removed]",
      "text/plain": [
       "<PIL.Image.Image image mode=RGB size=300x300 at 0x7FB8D2BFA0A0>"
      ]
     },
     "metadata": {},
     "output_type": "display_data"
    }
   ],
   "source": [
    "env.render()"
   ]
  },
  {
   "cell_type": "code",
   "execution_count": 7,
   "metadata": {
    "scrolled": true
   },
   "outputs": [
    {
     "data": {
      "text/plain": [
       "array([[[  0,   0,   0],\n",
       "        [  0,   0,   0],\n",
       "        [  0,   0,   0],\n",
       "        ...,\n",
       "        [  0,   0,   0],\n",
       "        [  0,   0,   0],\n",
       "        [  0,   0,   0]],\n",
       "\n",
       "       [[  0,   0,   0],\n",
       "        [190, 245, 116],\n",
       "        [190, 245, 116],\n",
       "        ...,\n",
       "        [  0,   0,   0],\n",
       "        [  0,   0,   0],\n",
       "        [  0,   0,   0]],\n",
       "\n",
       "       [[  0,   0,   0],\n",
       "        [190, 245, 116],\n",
       "        [190, 245, 116],\n",
       "        ...,\n",
       "        [  0,   0,   0],\n",
       "        [  0,   0,   0],\n",
       "        [  0,   0,   0]],\n",
       "\n",
       "       ...,\n",
       "\n",
       "       [[  0,   0,   0],\n",
       "        [190, 245, 116],\n",
       "        [190, 245, 116],\n",
       "        ...,\n",
       "        [255, 255, 255],\n",
       "        [255, 255, 255],\n",
       "        [255, 255, 255]],\n",
       "\n",
       "       [[  0,   0,   0],\n",
       "        [190, 245, 116],\n",
       "        [190, 245, 116],\n",
       "        ...,\n",
       "        [255, 255, 255],\n",
       "        [255, 255, 255],\n",
       "        [255, 255, 255]],\n",
       "\n",
       "       [[  0,   0,   0],\n",
       "        [190, 245, 116],\n",
       "        [190, 245, 116],\n",
       "        ...,\n",
       "        [255, 255, 255],\n",
       "        [255, 255, 255],\n",
       "        [255, 255, 255]]], dtype=uint8)"
      ]
     },
     "metadata": {},
     "output_type": "display_data"
    }
   ],
   "source": [
    "display(env.render(mode='rgb_array'))"
   ]
  },
  {
   "cell_type": "code",
   "execution_count": 8,
   "metadata": {},
   "outputs": [
    {
     "data": {
      "text/plain": [
       "\"\\n\\n\\n                    ________  ________  __    __  ________        \\n                   |        \\\\|        \\\\|  \\\\  |  \\\\|        \\\\       \\n                    \\\\$$$$$$$$| $$$$$$$$| $$  | $$ \\\\$$$$$$$$       \\n                      | $$   | $$__     \\\\$$\\\\/  $$   | $$          \\n                      | $$   | $$  \\\\     >$$  $$    | $$          \\n                      | $$   | $$$$$    /  $$$$\\\\    | $$          \\n                      | $$   | $$_____ |  $$ \\\\$$\\\\   | $$          \\n                      | $$   | $$     \\\\| $$  | $$   | $$          \\n                       \\\\$$    \\\\$$$$$$$$ \\\\$$   \\\\$$    \\\\$$          \\n              __       __   ______   _______   __        _______  \\n             |  \\\\  _  |  \\\\ /      \\\\ |       \\\\ |  \\\\      |       \\\\ \\n             | $$ / \\\\ | $$|  $$$$$$\\\\| $$$$$$$\\\\| $$      | $$$$$$$\\\\\\n             | $$/  $\\\\| $$| $$  | $$| $$__| $$| $$      | $$  | $$\\n             | $$  $$$\\\\ $$| $$  | $$| $$    $$| $$      | $$  | $$\\n             | $$ $$\\\\$$\\\\$$| $$  | $$| $$$$$$$\\\\| $$      | $$  | $$\\n             | $$$$  \\\\$$$$| $$__/ $$| $$  | $$| $$_____ | $$__/ $$\\n             | $$$    \\\\$$$ \\\\$$    $$| $$  | $$| $$     \\\\| $$    $$\\n              \\\\$$      \\\\$$  \\\\$$$$$$  \\\\$$   \\\\$$ \\\\$$$$$$$$ \\\\$$$$$$$ \\n\\nYou are hungry! Let's cook a delicious meal. Check the cookbook in the kitchen for the recipe. Once done, enjoy your meal!\\n\\n-= Bedroom =-\\nWell, here we are in a bedroom. I guess you better just go and list everything you see here.\\n\\nHey, want to see a bed? Look over there, a bed. But oh no! there's nothing on this piece of garbage.\\n\\nThere is an unblocked exit to the south.\\n\""
      ]
     },
     "metadata": {},
     "output_type": "display_data"
    }
   ],
   "source": [
    "display(env.render(mode='ansi'))"
   ]
  },
  {
   "cell_type": "code",
   "execution_count": 9,
   "metadata": {},
   "outputs": [
    {
     "name": "stdout",
     "output_type": "stream",
     "text": [
      "go/south(P:P,bedroom:r,corridor:r)\n"
     ]
    },
    {
     "data": {
      "text/plain": [
       "State(literals=frozenset({link(kitchen:r,frosted-glass door:d,pantry:r), cookable(purple potato:f), free(slot_0:slot), uncut(purple potato:f), at(counter:s,kitchen:r), cooking_location(kitchen:r,RECIPE:RECIPE), free(slot_1:slot), free(slot_8:slot), south_of(livingroom:r,corridor:r), free(corridor:r,bathroom:r), west_of(livingroom:r,kitchen:r), at(bed:s,bedroom:r), free(slot_4:slot), chopped(ingredient_0:ingredient), at(toilet:s,bathroom:r), out(meal:meal,RECIPE:RECIPE), east_of(bathroom:r,corridor:r), free(slot_9:slot), at(table:s,kitchen:r), at(shelf:s,pantry:r), free(bedroom:r,corridor:r), free(slot_7:slot), at(oven:oven,kitchen:r), free(livingroom:r,corridor:r), at(fridge:c,kitchen:r), edible(meal:meal), link(pantry:r,frosted-glass door:d,kitchen:r), on(purple potato:f,counter:s), cuttable(purple potato:f), at(stove:stove,kitchen:r), needs_cooking(yellow potato:f), at(sofa:s,livingroom:r), inedible(purple potato:f), free(kitchen:r,livingroom:r), free(corridor:r,bedroom:r), closed(frosted-glass door:d), north_of(bedroom:r,corridor:r), needs_cooking(purple potato:f), west_of(corridor:r,bathroom:r), in(ingredient_0:ingredient,RECIPE:RECIPE), inedible(yellow potato:f), east_of(kitchen:r,livingroom:r), free(bathroom:r,corridor:r), free(slot_2:slot), cuttable(yellow potato:f), north_of(corridor:r,livingroom:r), ingredient_1(purple potato:f), on(cookbook:o,counter:s), base(purple potato:f,ingredient_0:ingredient), sharp(knife:o), east_of(pantry:r,kitchen:r), on(knife:o,table:s), at(P:P,corridor:r), cookable(yellow potato:f), closed(fridge:c), free(livingroom:r,kitchen:r), south_of(corridor:r,bedroom:r), west_of(kitchen:r,pantry:r), free(corridor:r,livingroom:r), free(slot_5:slot), roasted(ingredient_0:ingredient), uncut(yellow potato:f), free(slot_3:slot), free(slot_6:slot), on(yellow potato:f,counter:s)}), objects=frozenset({oven:oven, west:null, cookbook:o, sofa:s, knife:o, south:null, bed:s, meal:meal, frosted-glass door:d, table:s, north:null, yellow potato:f, stove:stove, east:null, purple potato:f, fridge:c, toilet:s, shelf:s, counter:s}), goal=None)"
      ]
     },
     "metadata": {},
     "output_type": "display_data"
    },
    {
     "data": {
      "text/plain": [
       "{'description': \"-= Corridor =-\\nYou've just walked into a corridor.\\n\\n\\n\\nYou don't like doors? Why not try going east, that entranceway is unblocked. There is an exit to the north. Don't worry, it is unguarded. You need an unblocked exit? You should try going south.\",\n",
       " 'facts': [Proposition('at', (Variable('P', 'P'), Variable('corridor', 'r'))),\n",
       "  Proposition('at', (Variable('fridge', 'c'), Variable('kitchen', 'r'))),\n",
       "  Proposition('at', (Variable('oven', 'oven'), Variable('kitchen', 'r'))),\n",
       "  Proposition('at', (Variable('shelf', 's'), Variable('pantry', 'r'))),\n",
       "  Proposition('at', (Variable('sofa', 's'), Variable('livingroom', 'r'))),\n",
       "  Proposition('at', (Variable('counter', 's'), Variable('kitchen', 'r'))),\n",
       "  Proposition('at', (Variable('bed', 's'), Variable('bedroom', 'r'))),\n",
       "  Proposition('at', (Variable('table', 's'), Variable('kitchen', 'r'))),\n",
       "  Proposition('at', (Variable('toilet', 's'), Variable('bathroom', 'r'))),\n",
       "  Proposition('at', (Variable('stove', 'stove'), Variable('kitchen', 'r'))),\n",
       "  Proposition('base', (Variable('purple potato', 'f'), Variable('ingredient_0', 'ingredient'))),\n",
       "  Proposition('chopped', (Variable('ingredient_0', 'ingredient'),)),\n",
       "  Proposition('closed', (Variable('fridge', 'c'),)),\n",
       "  Proposition('closed', (Variable('frosted-glass door', 'd'),)),\n",
       "  Proposition('cookable', (Variable('yellow potato', 'f'),)),\n",
       "  Proposition('cookable', (Variable('purple potato', 'f'),)),\n",
       "  Proposition('cooking_location', (Variable('kitchen', 'r'), Variable('RECIPE', 'RECIPE'))),\n",
       "  Proposition('cuttable', (Variable('yellow potato', 'f'),)),\n",
       "  Proposition('cuttable', (Variable('purple potato', 'f'),)),\n",
       "  Proposition('east_of', (Variable('pantry', 'r'), Variable('kitchen', 'r'))),\n",
       "  Proposition('east_of', (Variable('kitchen', 'r'), Variable('livingroom', 'r'))),\n",
       "  Proposition('east_of', (Variable('bathroom', 'r'), Variable('corridor', 'r'))),\n",
       "  Proposition('edible', (Variable('meal', 'meal'),)),\n",
       "  Proposition('free', (Variable('corridor', 'r'), Variable('bathroom', 'r'))),\n",
       "  Proposition('free', (Variable('livingroom', 'r'), Variable('kitchen', 'r'))),\n",
       "  Proposition('free', (Variable('corridor', 'r'), Variable('bedroom', 'r'))),\n",
       "  Proposition('free', (Variable('bathroom', 'r'), Variable('corridor', 'r'))),\n",
       "  Proposition('free', (Variable('bedroom', 'r'), Variable('corridor', 'r'))),\n",
       "  Proposition('free', (Variable('livingroom', 'r'), Variable('corridor', 'r'))),\n",
       "  Proposition('free', (Variable('kitchen', 'r'), Variable('livingroom', 'r'))),\n",
       "  Proposition('free', (Variable('corridor', 'r'), Variable('livingroom', 'r'))),\n",
       "  Proposition('free', (Variable('slot_7', 'slot'),)),\n",
       "  Proposition('free', (Variable('slot_3', 'slot'),)),\n",
       "  Proposition('free', (Variable('slot_1', 'slot'),)),\n",
       "  Proposition('free', (Variable('slot_0', 'slot'),)),\n",
       "  Proposition('free', (Variable('slot_6', 'slot'),)),\n",
       "  Proposition('free', (Variable('slot_8', 'slot'),)),\n",
       "  Proposition('free', (Variable('slot_5', 'slot'),)),\n",
       "  Proposition('free', (Variable('slot_4', 'slot'),)),\n",
       "  Proposition('free', (Variable('slot_9', 'slot'),)),\n",
       "  Proposition('free', (Variable('slot_2', 'slot'),)),\n",
       "  Proposition('in', (Variable('ingredient_0', 'ingredient'), Variable('RECIPE', 'RECIPE'))),\n",
       "  Proposition('inedible', (Variable('yellow potato', 'f'),)),\n",
       "  Proposition('inedible', (Variable('purple potato', 'f'),)),\n",
       "  Proposition('ingredient_1', (Variable('purple potato', 'f'),)),\n",
       "  Proposition('link', (Variable('pantry', 'r'), Variable('frosted-glass door', 'd'), Variable('kitchen', 'r'))),\n",
       "  Proposition('link', (Variable('kitchen', 'r'), Variable('frosted-glass door', 'd'), Variable('pantry', 'r'))),\n",
       "  Proposition('needs_cooking', (Variable('yellow potato', 'f'),)),\n",
       "  Proposition('needs_cooking', (Variable('purple potato', 'f'),)),\n",
       "  Proposition('north_of', (Variable('bedroom', 'r'), Variable('corridor', 'r'))),\n",
       "  Proposition('north_of', (Variable('corridor', 'r'), Variable('livingroom', 'r'))),\n",
       "  Proposition('on', (Variable('purple potato', 'f'), Variable('counter', 's'))),\n",
       "  Proposition('on', (Variable('yellow potato', 'f'), Variable('counter', 's'))),\n",
       "  Proposition('on', (Variable('cookbook', 'o'), Variable('counter', 's'))),\n",
       "  Proposition('on', (Variable('knife', 'o'), Variable('table', 's'))),\n",
       "  Proposition('out', (Variable('meal', 'meal'), Variable('RECIPE', 'RECIPE'))),\n",
       "  Proposition('roasted', (Variable('ingredient_0', 'ingredient'),)),\n",
       "  Proposition('sharp', (Variable('knife', 'o'),)),\n",
       "  Proposition('south_of', (Variable('livingroom', 'r'), Variable('corridor', 'r'))),\n",
       "  Proposition('south_of', (Variable('corridor', 'r'), Variable('bedroom', 'r'))),\n",
       "  Proposition('uncut', (Variable('yellow potato', 'f'),)),\n",
       "  Proposition('uncut', (Variable('purple potato', 'f'),)),\n",
       "  Proposition('west_of', (Variable('corridor', 'r'), Variable('bathroom', 'r'))),\n",
       "  Proposition('west_of', (Variable('kitchen', 'r'), Variable('pantry', 'r'))),\n",
       "  Proposition('west_of', (Variable('livingroom', 'r'), Variable('kitchen', 'r')))],\n",
       " 'entities': ['frosted-glass door',\n",
       "  'fridge',\n",
       "  'oven',\n",
       "  'table',\n",
       "  'counter',\n",
       "  'shelf',\n",
       "  'sofa',\n",
       "  'bed',\n",
       "  'toilet',\n",
       "  'stove',\n",
       "  'purple potato',\n",
       "  'yellow potato',\n",
       "  'meal',\n",
       "  'cookbook',\n",
       "  'knife',\n",
       "  'north',\n",
       "  'south',\n",
       "  'east',\n",
       "  'west'],\n",
       " 'inventory': 'You are carrying nothing.'}"
      ]
     },
     "metadata": {},
     "output_type": "display_data"
    }
   ],
   "source": [
    "from pddlgym.structs import Literal, Predicate, Type\n",
    "\n",
    "action = Predicate('go/south', 3, [Type('P'), Type('r'), Type('r')])('P', 'bedroom', 'corridor')\n",
    "print(action)\n",
    "#obs, reward, done, debug_info = env.step(\"go south\")\n",
    "obs, reward, done, debug_info = env.step(action)\n",
    "#display(Image.fromarray(env.render()))\n",
    "\n",
    "display(obs)\n",
    "display(debug_info)"
   ]
  },
  {
   "cell_type": "code",
   "execution_count": null,
   "metadata": {},
   "outputs": [],
   "source": []
  }
 ],
 "metadata": {
  "kernelspec": {
   "display_name": "Python 3",
   "language": "python",
   "name": "python3"
  },
  "language_info": {
   "codemirror_mode": {
    "name": "ipython",
    "version": 3
   },
   "file_extension": ".py",
   "mimetype": "text/x-python",
   "name": "python",
   "nbconvert_exporter": "python",
   "pygments_lexer": "ipython3",
   "version": "3.8.5"
  }
 },
 "nbformat": 4,
 "nbformat_minor": 4
}
