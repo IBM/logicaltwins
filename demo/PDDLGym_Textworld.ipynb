{
 "cells": [
  {
   "cell_type": "code",
   "execution_count": 1,
   "metadata": {
    "scrolled": true
   },
   "outputs": [
    {
     "name": "stdout",
     "output_type": "stream",
     "text": [
      "Requirement already satisfied: gym in /usr/local/Caskroom/miniconda/base/envs/loa/lib/python3.8/site-packages (0.17.3)\n",
      "Requirement already satisfied: cloudpickle<1.7.0,>=1.2.0 in /usr/local/Caskroom/miniconda/base/envs/loa/lib/python3.8/site-packages (from gym) (1.6.0)\n",
      "Requirement already satisfied: pyglet<=1.5.0,>=1.4.0 in /usr/local/Caskroom/miniconda/base/envs/loa/lib/python3.8/site-packages (from gym) (1.5.0)\n",
      "Requirement already satisfied: numpy>=1.10.4 in /usr/local/Caskroom/miniconda/base/envs/loa/lib/python3.8/site-packages (from gym) (1.18.1)\n",
      "Requirement already satisfied: scipy in /usr/local/Caskroom/miniconda/base/envs/loa/lib/python3.8/site-packages (from gym) (1.5.2)\n",
      "Requirement already satisfied: future in /usr/local/Caskroom/miniconda/base/envs/loa/lib/python3.8/site-packages (from pyglet<=1.5.0,>=1.4.0->gym) (0.18.2)\n",
      "Collecting git+https://github.com/microsoft/TextWorld.git\n",
      "  Cloning https://github.com/microsoft/TextWorld.git to /private/var/folders/zq/bxt60rfx66q24xdm0y8ks5dr0000gn/T/pip-req-build-cu3gv6zf\n",
      "Requirement already satisfied (use --upgrade to upgrade): textworld==1.3.2 from git+https://github.com/microsoft/TextWorld.git in /usr/local/Caskroom/miniconda/base/envs/loa/lib/python3.8/site-packages\n",
      "Requirement already satisfied: numpy>=1.14.5 in /usr/local/Caskroom/miniconda/base/envs/loa/lib/python3.8/site-packages (from textworld==1.3.2) (1.18.1)\n",
      "Requirement already satisfied: tqdm>=4.17.1 in /usr/local/Caskroom/miniconda/base/envs/loa/lib/python3.8/site-packages (from textworld==1.3.2) (4.46.0)\n",
      "Requirement already satisfied: cffi>=1.0.0 in /usr/local/Caskroom/miniconda/base/envs/loa/lib/python3.8/site-packages (from textworld==1.3.2) (1.14.3)\n",
      "Requirement already satisfied: networkx>=2 in /usr/local/Caskroom/miniconda/base/envs/loa/lib/python3.8/site-packages (from textworld==1.3.2) (2.4)\n",
      "Requirement already satisfied: pyyaml>=3.12 in /usr/local/Caskroom/miniconda/base/envs/loa/lib/python3.8/site-packages (from textworld==1.3.2) (5.3.1)\n",
      "Requirement already satisfied: more_itertools in /usr/local/Caskroom/miniconda/base/envs/loa/lib/python3.8/site-packages (from textworld==1.3.2) (8.5.0)\n",
      "Requirement already satisfied: tatsu>=4.3.0 in /usr/local/Caskroom/miniconda/base/envs/loa/lib/python3.8/site-packages (from textworld==1.3.2) (5.5.0)\n",
      "Requirement already satisfied: hashids>=1.2.0 in /usr/local/Caskroom/miniconda/base/envs/loa/lib/python3.8/site-packages (from textworld==1.3.2) (1.3.1)\n",
      "Requirement already satisfied: jericho>=3.0.3 in /usr/local/Caskroom/miniconda/base/envs/loa/lib/python3.8/site-packages (from textworld==1.3.2) (3.0.3)\n",
      "Requirement already satisfied: mementos>=1.3.1 in /usr/local/Caskroom/miniconda/base/envs/loa/lib/python3.8/site-packages (from textworld==1.3.2) (1.3.1)\n",
      "Requirement already satisfied: prompt_toolkit in /usr/local/Caskroom/miniconda/base/envs/loa/lib/python3.8/site-packages (from textworld==1.3.2) (3.0.8)\n",
      "Requirement already satisfied: gym>=0.10.11 in /usr/local/Caskroom/miniconda/base/envs/loa/lib/python3.8/site-packages (from textworld==1.3.2) (0.17.3)\n",
      "Requirement already satisfied: pycparser in /usr/local/Caskroom/miniconda/base/envs/loa/lib/python3.8/site-packages (from cffi>=1.0.0->textworld==1.3.2) (2.20)\n",
      "Requirement already satisfied: decorator>=4.3.0 in /usr/local/Caskroom/miniconda/base/envs/loa/lib/python3.8/site-packages (from networkx>=2->textworld==1.3.2) (4.4.2)\n",
      "Requirement already satisfied: spacy>=2.1.0 in /usr/local/Caskroom/miniconda/base/envs/loa/lib/python3.8/site-packages (from jericho>=3.0.3->textworld==1.3.2) (2.2.4)\n",
      "Requirement already satisfied: wcwidth in /usr/local/Caskroom/miniconda/base/envs/loa/lib/python3.8/site-packages (from prompt_toolkit->textworld==1.3.2) (0.2.5)\n",
      "Requirement already satisfied: scipy in /usr/local/Caskroom/miniconda/base/envs/loa/lib/python3.8/site-packages (from gym>=0.10.11->textworld==1.3.2) (1.5.2)\n",
      "Requirement already satisfied: pyglet<=1.5.0,>=1.4.0 in /usr/local/Caskroom/miniconda/base/envs/loa/lib/python3.8/site-packages (from gym>=0.10.11->textworld==1.3.2) (1.5.0)\n",
      "Requirement already satisfied: cloudpickle<1.7.0,>=1.2.0 in /usr/local/Caskroom/miniconda/base/envs/loa/lib/python3.8/site-packages (from gym>=0.10.11->textworld==1.3.2) (1.6.0)\n",
      "Requirement already satisfied: requests<3.0.0,>=2.13.0 in /usr/local/Caskroom/miniconda/base/envs/loa/lib/python3.8/site-packages (from spacy>=2.1.0->jericho>=3.0.3->textworld==1.3.2) (2.24.0)\n",
      "Requirement already satisfied: setuptools in /usr/local/Caskroom/miniconda/base/envs/loa/lib/python3.8/site-packages (from spacy>=2.1.0->jericho>=3.0.3->textworld==1.3.2) (49.6.0.post20200925)\n",
      "Requirement already satisfied: preshed<3.1.0,>=3.0.2 in /usr/local/Caskroom/miniconda/base/envs/loa/lib/python3.8/site-packages (from spacy>=2.1.0->jericho>=3.0.3->textworld==1.3.2) (3.0.2)\n",
      "Requirement already satisfied: srsly<1.1.0,>=1.0.2 in /usr/local/Caskroom/miniconda/base/envs/loa/lib/python3.8/site-packages (from spacy>=2.1.0->jericho>=3.0.3->textworld==1.3.2) (1.0.2)\n",
      "Requirement already satisfied: wasabi<1.1.0,>=0.4.0 in /usr/local/Caskroom/miniconda/base/envs/loa/lib/python3.8/site-packages (from spacy>=2.1.0->jericho>=3.0.3->textworld==1.3.2) (0.8.0)\n",
      "Requirement already satisfied: cymem<2.1.0,>=2.0.2 in /usr/local/Caskroom/miniconda/base/envs/loa/lib/python3.8/site-packages (from spacy>=2.1.0->jericho>=3.0.3->textworld==1.3.2) (2.0.3)\n",
      "Requirement already satisfied: catalogue<1.1.0,>=0.0.7 in /usr/local/Caskroom/miniconda/base/envs/loa/lib/python3.8/site-packages (from spacy>=2.1.0->jericho>=3.0.3->textworld==1.3.2) (1.0.0)\n",
      "Requirement already satisfied: murmurhash<1.1.0,>=0.28.0 in /usr/local/Caskroom/miniconda/base/envs/loa/lib/python3.8/site-packages (from spacy>=2.1.0->jericho>=3.0.3->textworld==1.3.2) (1.0.2)\n",
      "Requirement already satisfied: plac<1.2.0,>=0.9.6 in /usr/local/Caskroom/miniconda/base/envs/loa/lib/python3.8/site-packages (from spacy>=2.1.0->jericho>=3.0.3->textworld==1.3.2) (1.1.3)\n",
      "Requirement already satisfied: thinc==7.4.0 in /usr/local/Caskroom/miniconda/base/envs/loa/lib/python3.8/site-packages (from spacy>=2.1.0->jericho>=3.0.3->textworld==1.3.2) (7.4.0)\n",
      "Requirement already satisfied: blis<0.5.0,>=0.4.0 in /usr/local/Caskroom/miniconda/base/envs/loa/lib/python3.8/site-packages (from spacy>=2.1.0->jericho>=3.0.3->textworld==1.3.2) (0.4.1)\n",
      "Requirement already satisfied: future in /usr/local/Caskroom/miniconda/base/envs/loa/lib/python3.8/site-packages (from pyglet<=1.5.0,>=1.4.0->gym>=0.10.11->textworld==1.3.2) (0.18.2)\n",
      "Requirement already satisfied: urllib3!=1.25.0,!=1.25.1,<1.26,>=1.21.1 in /usr/local/Caskroom/miniconda/base/envs/loa/lib/python3.8/site-packages (from requests<3.0.0,>=2.13.0->spacy>=2.1.0->jericho>=3.0.3->textworld==1.3.2) (1.25.10)\n",
      "Requirement already satisfied: chardet<4,>=3.0.2 in /usr/local/Caskroom/miniconda/base/envs/loa/lib/python3.8/site-packages (from requests<3.0.0,>=2.13.0->spacy>=2.1.0->jericho>=3.0.3->textworld==1.3.2) (3.0.4)\n",
      "Requirement already satisfied: certifi>=2017.4.17 in /usr/local/Caskroom/miniconda/base/envs/loa/lib/python3.8/site-packages (from requests<3.0.0,>=2.13.0->spacy>=2.1.0->jericho>=3.0.3->textworld==1.3.2) (2020.6.20)\n",
      "Requirement already satisfied: idna<3,>=2.5 in /usr/local/Caskroom/miniconda/base/envs/loa/lib/python3.8/site-packages (from requests<3.0.0,>=2.13.0->spacy>=2.1.0->jericho>=3.0.3->textworld==1.3.2) (2.10)\n",
      "Building wheels for collected packages: textworld\n",
      "  Building wheel for textworld (setup.py) ... \u001b[?25ldone\n",
      "\u001b[?25h  Created wheel for textworld: filename=textworld-1.3.2-cp38-cp38-macosx_10_9_x86_64.whl size=5714343 sha256=7431501aa9b0fc8277c8b6789a792b1cc262e986e66f8a4146fe73cd304961a2\n",
      "  Stored in directory: /private/var/folders/zq/bxt60rfx66q24xdm0y8ks5dr0000gn/T/pip-ephem-wheel-cache-tqiqo7wm/wheels/7e/78/5b/1ca9e513bebe685064305fcf31848e1403d3232e4c2ead18ff\n",
      "Successfully built textworld\n"
     ]
    }
   ],
   "source": [
    "!pip install gym\n",
    "#!pip install prompt-toolkit older TW 0.0.3 needs prompt-toolkit<2.0.0, which is incompatible with Jupyter Notebook\n",
    "\n",
    "# The installation below takes time so do it only once\n",
    "#!pip install git+https://github.com/microsoft/TextWorld.git  "
   ]
  },
  {
   "cell_type": "code",
   "execution_count": 2,
   "metadata": {
    "scrolled": true
   },
   "outputs": [
    {
     "name": "stdout",
     "output_type": "stream",
     "text": [
      "Obtaining file:///Users/mich/git/pddlgym_textworld\n",
      "Installing collected packages: pddlgym-textworld\n",
      "  Attempting uninstall: pddlgym-textworld\n",
      "    Found existing installation: pddlgym-textworld 0.0.1\n",
      "    Uninstalling pddlgym-textworld-0.0.1:\n",
      "      Successfully uninstalled pddlgym-textworld-0.0.1\n",
      "  Running setup.py develop for pddlgym-textworld\n",
      "Successfully installed pddlgym-textworld\n"
     ]
    }
   ],
   "source": [
    "!pip install -e ../"
   ]
  },
  {
   "cell_type": "code",
   "execution_count": 3,
   "metadata": {},
   "outputs": [],
   "source": [
    "gamefile = \"./demo_games/tw-cooking-test-take+cook+cut+open+go6-JrmLfNyMcErjF6LD.ulx\""
   ]
  },
  {
   "cell_type": "code",
   "execution_count": 4,
   "metadata": {
    "scrolled": true
   },
   "outputs": [
    {
     "data": {
      "text/plain": [
       "str"
      ]
     },
     "metadata": {},
     "output_type": "display_data"
    },
    {
     "data": {
      "text/plain": [
       "\"\\n\\n\\n                    ________  ________  __    __  ________        \\n                   |        \\\\|        \\\\|  \\\\  |  \\\\|        \\\\       \\n                    \\\\$$$$$$$$| $$$$$$$$| $$  | $$ \\\\$$$$$$$$       \\n                      | $$   | $$__     \\\\$$\\\\/  $$   | $$          \\n                      | $$   | $$  \\\\     >$$  $$    | $$          \\n                      | $$   | $$$$$    /  $$$$\\\\    | $$          \\n                      | $$   | $$_____ |  $$ \\\\$$\\\\   | $$          \\n                      | $$   | $$     \\\\| $$  | $$   | $$          \\n                       \\\\$$    \\\\$$$$$$$$ \\\\$$   \\\\$$    \\\\$$          \\n              __       __   ______   _______   __        _______  \\n             |  \\\\  _  |  \\\\ /      \\\\ |       \\\\ |  \\\\      |       \\\\ \\n             | $$ / \\\\ | $$|  $$$$$$\\\\| $$$$$$$\\\\| $$      | $$$$$$$\\\\\\n             | $$/  $\\\\| $$| $$  | $$| $$__| $$| $$      | $$  | $$\\n             | $$  $$$\\\\ $$| $$  | $$| $$    $$| $$      | $$  | $$\\n             | $$ $$\\\\$$\\\\$$| $$  | $$| $$$$$$$\\\\| $$      | $$  | $$\\n             | $$$$  \\\\$$$$| $$__/ $$| $$  | $$| $$_____ | $$__/ $$\\n             | $$$    \\\\$$$ \\\\$$    $$| $$  | $$| $$     \\\\| $$    $$\\n              \\\\$$      \\\\$$  \\\\$$$$$$  \\\\$$   \\\\$$ \\\\$$$$$$$$ \\\\$$$$$$$ \\n\\nYou are hungry! Let's cook a delicious meal. Check the cookbook in the kitchen for the recipe. Once done, enjoy your meal!\\n\\n-= Bedroom =-\\nWell, here we are in a bedroom. I guess you better just go and list everything you see here.\\n\\nHey, want to see a bed? Look over there, a bed. But oh no! there's nothing on this piece of garbage.\\n\\nThere is an unblocked exit to the south.\\n\""
      ]
     },
     "metadata": {},
     "output_type": "display_data"
    },
    {
     "data": {
      "text/plain": [
       "dict"
      ]
     },
     "metadata": {},
     "output_type": "display_data"
    },
    {
     "data": {
      "text/plain": [
       "{'entities': ['frosted-glass door',\n",
       "  'fridge',\n",
       "  'oven',\n",
       "  'table',\n",
       "  'counter',\n",
       "  'shelf',\n",
       "  'sofa',\n",
       "  'bed',\n",
       "  'toilet',\n",
       "  'stove',\n",
       "  'purple potato',\n",
       "  'yellow potato',\n",
       "  'meal',\n",
       "  'cookbook',\n",
       "  'knife',\n",
       "  'north',\n",
       "  'south',\n",
       "  'east',\n",
       "  'west'],\n",
       " 'description': \"-= Bedroom =-\\nWell, here we are in a bedroom. I guess you better just go and list everything you see here.\\n\\nHey, want to see a bed? Look over there, a bed. But oh no! there's nothing on this piece of garbage.\\n\\nThere is an unblocked exit to the south.\",\n",
       " 'facts': [Proposition('at', (Variable('P', 'P'), Variable('bedroom', 'r'))),\n",
       "  Proposition('at', (Variable('fridge', 'c'), Variable('kitchen', 'r'))),\n",
       "  Proposition('at', (Variable('oven', 'oven'), Variable('kitchen', 'r'))),\n",
       "  Proposition('at', (Variable('sofa', 's'), Variable('livingroom', 'r'))),\n",
       "  Proposition('at', (Variable('toilet', 's'), Variable('bathroom', 'r'))),\n",
       "  Proposition('at', (Variable('bed', 's'), Variable('bedroom', 'r'))),\n",
       "  Proposition('at', (Variable('counter', 's'), Variable('kitchen', 'r'))),\n",
       "  Proposition('at', (Variable('shelf', 's'), Variable('pantry', 'r'))),\n",
       "  Proposition('at', (Variable('table', 's'), Variable('kitchen', 'r'))),\n",
       "  Proposition('at', (Variable('stove', 'stove'), Variable('kitchen', 'r'))),\n",
       "  Proposition('base', (Variable('purple potato', 'f'), Variable('ingredient_0', 'ingredient'))),\n",
       "  Proposition('chopped', (Variable('ingredient_0', 'ingredient'),)),\n",
       "  Proposition('closed', (Variable('fridge', 'c'),)),\n",
       "  Proposition('closed', (Variable('frosted-glass door', 'd'),)),\n",
       "  Proposition('cookable', (Variable('yellow potato', 'f'),)),\n",
       "  Proposition('cookable', (Variable('purple potato', 'f'),)),\n",
       "  Proposition('cooking_location', (Variable('kitchen', 'r'), Variable('RECIPE', 'RECIPE'))),\n",
       "  Proposition('cuttable', (Variable('purple potato', 'f'),)),\n",
       "  Proposition('cuttable', (Variable('yellow potato', 'f'),)),\n",
       "  Proposition('east_of', (Variable('kitchen', 'r'), Variable('livingroom', 'r'))),\n",
       "  Proposition('east_of', (Variable('bathroom', 'r'), Variable('corridor', 'r'))),\n",
       "  Proposition('east_of', (Variable('pantry', 'r'), Variable('kitchen', 'r'))),\n",
       "  Proposition('edible', (Variable('meal', 'meal'),)),\n",
       "  Proposition('free', (Variable('corridor', 'r'), Variable('livingroom', 'r'))),\n",
       "  Proposition('free', (Variable('corridor', 'r'), Variable('bathroom', 'r'))),\n",
       "  Proposition('free', (Variable('bathroom', 'r'), Variable('corridor', 'r'))),\n",
       "  Proposition('free', (Variable('livingroom', 'r'), Variable('corridor', 'r'))),\n",
       "  Proposition('free', (Variable('corridor', 'r'), Variable('bedroom', 'r'))),\n",
       "  Proposition('free', (Variable('kitchen', 'r'), Variable('livingroom', 'r'))),\n",
       "  Proposition('free', (Variable('bedroom', 'r'), Variable('corridor', 'r'))),\n",
       "  Proposition('free', (Variable('livingroom', 'r'), Variable('kitchen', 'r'))),\n",
       "  Proposition('free', (Variable('slot_1', 'slot'),)),\n",
       "  Proposition('free', (Variable('slot_9', 'slot'),)),\n",
       "  Proposition('free', (Variable('slot_5', 'slot'),)),\n",
       "  Proposition('free', (Variable('slot_7', 'slot'),)),\n",
       "  Proposition('free', (Variable('slot_4', 'slot'),)),\n",
       "  Proposition('free', (Variable('slot_8', 'slot'),)),\n",
       "  Proposition('free', (Variable('slot_3', 'slot'),)),\n",
       "  Proposition('free', (Variable('slot_6', 'slot'),)),\n",
       "  Proposition('free', (Variable('slot_2', 'slot'),)),\n",
       "  Proposition('free', (Variable('slot_0', 'slot'),)),\n",
       "  Proposition('in', (Variable('ingredient_0', 'ingredient'), Variable('RECIPE', 'RECIPE'))),\n",
       "  Proposition('inedible', (Variable('yellow potato', 'f'),)),\n",
       "  Proposition('inedible', (Variable('purple potato', 'f'),)),\n",
       "  Proposition('ingredient_1', (Variable('purple potato', 'f'),)),\n",
       "  Proposition('link', (Variable('kitchen', 'r'), Variable('frosted-glass door', 'd'), Variable('pantry', 'r'))),\n",
       "  Proposition('link', (Variable('pantry', 'r'), Variable('frosted-glass door', 'd'), Variable('kitchen', 'r'))),\n",
       "  Proposition('needs_cooking', (Variable('yellow potato', 'f'),)),\n",
       "  Proposition('needs_cooking', (Variable('purple potato', 'f'),)),\n",
       "  Proposition('north_of', (Variable('corridor', 'r'), Variable('livingroom', 'r'))),\n",
       "  Proposition('north_of', (Variable('bedroom', 'r'), Variable('corridor', 'r'))),\n",
       "  Proposition('on', (Variable('purple potato', 'f'), Variable('counter', 's'))),\n",
       "  Proposition('on', (Variable('yellow potato', 'f'), Variable('counter', 's'))),\n",
       "  Proposition('on', (Variable('cookbook', 'o'), Variable('counter', 's'))),\n",
       "  Proposition('on', (Variable('knife', 'o'), Variable('table', 's'))),\n",
       "  Proposition('out', (Variable('meal', 'meal'), Variable('RECIPE', 'RECIPE'))),\n",
       "  Proposition('roasted', (Variable('ingredient_0', 'ingredient'),)),\n",
       "  Proposition('sharp', (Variable('knife', 'o'),)),\n",
       "  Proposition('south_of', (Variable('corridor', 'r'), Variable('bedroom', 'r'))),\n",
       "  Proposition('south_of', (Variable('livingroom', 'r'), Variable('corridor', 'r'))),\n",
       "  Proposition('uncut', (Variable('yellow potato', 'f'),)),\n",
       "  Proposition('uncut', (Variable('purple potato', 'f'),)),\n",
       "  Proposition('west_of', (Variable('livingroom', 'r'), Variable('kitchen', 'r'))),\n",
       "  Proposition('west_of', (Variable('corridor', 'r'), Variable('bathroom', 'r'))),\n",
       "  Proposition('west_of', (Variable('kitchen', 'r'), Variable('pantry', 'r')))],\n",
       " 'inventory': 'You are carrying nothing.'}"
      ]
     },
     "metadata": {},
     "output_type": "display_data"
    }
   ],
   "source": [
    "import gym\n",
    "import textworld.gym\n",
    "from textworld import EnvInfos\n",
    "\n",
    "#request_infos = EnvInfos(description=True, inventory=True)\n",
    "request_infos = EnvInfos(description=True, inventory=True, entities=True, facts=True)\n",
    "env_id = textworld.gym.register_game(gamefile, request_infos)\n",
    "env = gym.make(env_id)\n",
    "ob, infos = env.reset()\n",
    "\n",
    "display(type(ob))\n",
    "display(ob)\n",
    "\n",
    "display(type(infos))\n",
    "display(infos)"
   ]
  },
  {
   "cell_type": "code",
   "execution_count": 5,
   "metadata": {
    "scrolled": true
   },
   "outputs": [
    {
     "data": {
      "text/plain": [
       "frozenset({at(P:P,bedroom:r),\n",
       "           at(bed:s,bedroom:r),\n",
       "           at(counter:s,kitchen:r),\n",
       "           at(fridge:c,kitchen:r),\n",
       "           at(oven:oven,kitchen:r),\n",
       "           at(shelf:s,pantry:r),\n",
       "           at(sofa:s,livingroom:r),\n",
       "           at(stove:stove,kitchen:r),\n",
       "           at(table:s,kitchen:r),\n",
       "           at(toilet:s,bathroom:r),\n",
       "           base(purple potato:f,ingredient_0:ingredient),\n",
       "           chopped(ingredient_0:ingredient),\n",
       "           closed(fridge:c),\n",
       "           closed(frosted-glass door:d),\n",
       "           cookable(purple potato:f),\n",
       "           cookable(yellow potato:f),\n",
       "           cooking_location(kitchen:r,RECIPE:RECIPE),\n",
       "           cuttable(purple potato:f),\n",
       "           cuttable(yellow potato:f),\n",
       "           east_of(bathroom:r,corridor:r),\n",
       "           east_of(kitchen:r,livingroom:r),\n",
       "           east_of(pantry:r,kitchen:r),\n",
       "           edible(meal:meal),\n",
       "           free(bathroom:r,corridor:r),\n",
       "           free(bedroom:r,corridor:r),\n",
       "           free(corridor:r,bathroom:r),\n",
       "           free(corridor:r,bedroom:r),\n",
       "           free(corridor:r,livingroom:r),\n",
       "           free(kitchen:r,livingroom:r),\n",
       "           free(livingroom:r,corridor:r),\n",
       "           free(livingroom:r,kitchen:r),\n",
       "           free(slot_0:slot),\n",
       "           free(slot_1:slot),\n",
       "           free(slot_2:slot),\n",
       "           free(slot_3:slot),\n",
       "           free(slot_4:slot),\n",
       "           free(slot_5:slot),\n",
       "           free(slot_6:slot),\n",
       "           free(slot_7:slot),\n",
       "           free(slot_8:slot),\n",
       "           free(slot_9:slot),\n",
       "           in(ingredient_0:ingredient,RECIPE:RECIPE),\n",
       "           inedible(purple potato:f),\n",
       "           inedible(yellow potato:f),\n",
       "           ingredient_1(purple potato:f),\n",
       "           link(kitchen:r,frosted-glass door:d,pantry:r),\n",
       "           link(pantry:r,frosted-glass door:d,kitchen:r),\n",
       "           needs_cooking(purple potato:f),\n",
       "           needs_cooking(yellow potato:f),\n",
       "           north_of(bedroom:r,corridor:r),\n",
       "           north_of(corridor:r,livingroom:r),\n",
       "           on(cookbook:o,counter:s),\n",
       "           on(knife:o,table:s),\n",
       "           on(purple potato:f,counter:s),\n",
       "           on(yellow potato:f,counter:s),\n",
       "           out(meal:meal,RECIPE:RECIPE),\n",
       "           roasted(ingredient_0:ingredient),\n",
       "           sharp(knife:o),\n",
       "           south_of(corridor:r,bedroom:r),\n",
       "           south_of(livingroom:r,corridor:r),\n",
       "           uncut(purple potato:f),\n",
       "           uncut(yellow potato:f),\n",
       "           west_of(corridor:r,bathroom:r),\n",
       "           west_of(kitchen:r,pantry:r),\n",
       "           west_of(livingroom:r,kitchen:r)})"
      ]
     },
     "metadata": {},
     "output_type": "display_data"
    }
   ],
   "source": [
    "import pddlgym\n",
    "from pddlgym_textworld import tw_facts_to_pddlgym\n",
    "\n",
    "pddlgym_literals = tw_facts_to_pddlgym(infos['facts'])\n",
    "\n",
    "display(pddlgym_literals)\n",
    "\n",
    "assert type(next(iter(pddlgym_literals))) == pddlgym.structs.Literal"
   ]
  },
  {
   "cell_type": "code",
   "execution_count": 6,
   "metadata": {},
   "outputs": [
    {
     "data": {
      "text/plain": [
       "{'P': 'P',\n",
       " 'bedroom': 'r',\n",
       " 'fridge': 'c',\n",
       " 'kitchen': 'r',\n",
       " 'oven': 'oven',\n",
       " 'sofa': 's',\n",
       " 'livingroom': 'r',\n",
       " 'toilet': 's',\n",
       " 'bathroom': 'r',\n",
       " 'bed': 's',\n",
       " 'counter': 's',\n",
       " 'shelf': 's',\n",
       " 'pantry': 'r',\n",
       " 'table': 's',\n",
       " 'stove': 'stove',\n",
       " 'purple potato': 'f',\n",
       " 'ingredient_0': 'ingredient',\n",
       " 'frosted-glass door': 'd',\n",
       " 'yellow potato': 'f',\n",
       " 'RECIPE': 'RECIPE',\n",
       " 'corridor': 'r',\n",
       " 'meal': 'meal',\n",
       " 'slot_1': 'slot',\n",
       " 'slot_9': 'slot',\n",
       " 'slot_5': 'slot',\n",
       " 'slot_7': 'slot',\n",
       " 'slot_4': 'slot',\n",
       " 'slot_8': 'slot',\n",
       " 'slot_3': 'slot',\n",
       " 'slot_6': 'slot',\n",
       " 'slot_2': 'slot',\n",
       " 'slot_0': 'slot',\n",
       " 'cookbook': 'o',\n",
       " 'knife': 'o'}"
      ]
     },
     "metadata": {},
     "output_type": "display_data"
    },
    {
     "data": {
      "text/plain": [
       "frozenset({bed:s,\n",
       "           cookbook:o,\n",
       "           counter:s,\n",
       "           east:null,\n",
       "           fridge:c,\n",
       "           frosted-glass door:d,\n",
       "           knife:o,\n",
       "           meal:meal,\n",
       "           north:null,\n",
       "           oven:oven,\n",
       "           purple potato:f,\n",
       "           shelf:s,\n",
       "           sofa:s,\n",
       "           south:null,\n",
       "           stove:stove,\n",
       "           table:s,\n",
       "           toilet:s,\n",
       "           west:null,\n",
       "           yellow potato:f})"
      ]
     },
     "metadata": {},
     "output_type": "display_data"
    }
   ],
   "source": [
    "import pddlgym\n",
    "from pddlgym_textworld import typebindings_from_tw_facts, tw_entities_to_pddlgym\n",
    "\n",
    "typebindings = typebindings_from_tw_facts(infos['facts'])\n",
    "\n",
    "display(typebindings)\n",
    "\n",
    "pddlgym_objects = tw_entities_to_pddlgym(infos['entities'], typebindings)\n",
    "\n",
    "display(pddlgym_objects)\n",
    "\n",
    "assert type(next(iter(pddlgym_objects))) == pddlgym.structs.TypedEntity"
   ]
  },
  {
   "cell_type": "code",
   "execution_count": 7,
   "metadata": {
    "scrolled": true
   },
   "outputs": [
    {
     "data": {
      "text/plain": [
       "State(literals=frozenset({cookable(purple potato:f), edible(meal:meal), free(kitchen:r,livingroom:r), at(counter:s,kitchen:r), free(corridor:r,bathroom:r), at(P:P,bedroom:r), at(sofa:s,livingroom:r), sharp(knife:o), east_of(bathroom:r,corridor:r), west_of(livingroom:r,kitchen:r), uncut(purple potato:f), chopped(ingredient_0:ingredient), roasted(ingredient_0:ingredient), base(purple potato:f,ingredient_0:ingredient), closed(frosted-glass door:d), east_of(pantry:r,kitchen:r), free(livingroom:r,corridor:r), cooking_location(kitchen:r,RECIPE:RECIPE), cuttable(yellow potato:f), link(pantry:r,frosted-glass door:d,kitchen:r), free(slot_2:slot), cookable(yellow potato:f), free(slot_3:slot), free(slot_7:slot), ingredient_1(purple potato:f), free(livingroom:r,kitchen:r), needs_cooking(yellow potato:f), needs_cooking(purple potato:f), on(purple potato:f,counter:s), at(table:s,kitchen:r), uncut(yellow potato:f), free(slot_5:slot), closed(fridge:c), west_of(kitchen:r,pantry:r), free(slot_9:slot), at(oven:oven,kitchen:r), north_of(bedroom:r,corridor:r), east_of(kitchen:r,livingroom:r), west_of(corridor:r,bathroom:r), in(ingredient_0:ingredient,RECIPE:RECIPE), south_of(corridor:r,bedroom:r), free(bathroom:r,corridor:r), on(yellow potato:f,counter:s), free(slot_6:slot), free(slot_4:slot), on(cookbook:o,counter:s), cuttable(purple potato:f), at(shelf:s,pantry:r), inedible(yellow potato:f), at(toilet:s,bathroom:r), free(corridor:r,livingroom:r), at(bed:s,bedroom:r), on(knife:o,table:s), at(stove:stove,kitchen:r), free(slot_8:slot), out(meal:meal,RECIPE:RECIPE), at(fridge:c,kitchen:r), free(slot_1:slot), free(bedroom:r,corridor:r), free(corridor:r,bedroom:r), free(slot_0:slot), north_of(corridor:r,livingroom:r), inedible(purple potato:f), south_of(livingroom:r,corridor:r), link(kitchen:r,frosted-glass door:d,pantry:r)}), objects=frozenset({shelf:s, counter:s, east:null, meal:meal, frosted-glass door:d, west:null, yellow potato:f, south:null, bed:s, knife:o, oven:oven, cookbook:o, purple potato:f, fridge:c, table:s, sofa:s, stove:stove, north:null, toilet:s}), goal=None)"
      ]
     },
     "metadata": {},
     "output_type": "display_data"
    }
   ],
   "source": [
    "import pddlgym\n",
    "from pddlgym_textworld import tw_infos_to_pddlgym\n",
    "\n",
    "pddlgym_state = tw_infos_to_pddlgym(infos)\n",
    "\n",
    "display(pddlgym_state)\n",
    "\n",
    "assert type(pddlgym_state) == pddlgym.structs.State"
   ]
  },
  {
   "cell_type": "code",
   "execution_count": 8,
   "metadata": {},
   "outputs": [
    {
     "name": "stdout",
     "output_type": "stream",
     "text": [
      "None\n"
     ]
    }
   ],
   "source": [
    "print(env.action_space)"
   ]
  },
  {
   "cell_type": "code",
   "execution_count": 9,
   "metadata": {},
   "outputs": [],
   "source": [
    "from pddlgym.structs import Literal, Predicate, Type\n",
    "\n",
    "#action = Predicate('putdown', 1, [Type('block')])('a')\n",
    "#print(action)\n",
    "obs, reward, done, debug_info = env.step(\"go south\")\n",
    "#display(Image.fromarray(env.render()))"
   ]
  },
  {
   "cell_type": "code",
   "execution_count": 10,
   "metadata": {},
   "outputs": [
    {
     "data": {
      "text/plain": [
       "\"\\n-= Corridor =-\\nYou've just walked into a corridor.\\n\\n\\n\\nYou don't like doors? Why not try going east, that entranceway is unblocked. There is an exit to the north. Don't worry, it is unguarded. You need an unblocked exit? You should try going south.\\n\\n\\n\""
      ]
     },
     "metadata": {},
     "output_type": "display_data"
    },
    {
     "data": {
      "text/plain": [
       "{'entities': ['frosted-glass door',\n",
       "  'fridge',\n",
       "  'oven',\n",
       "  'table',\n",
       "  'counter',\n",
       "  'shelf',\n",
       "  'sofa',\n",
       "  'bed',\n",
       "  'toilet',\n",
       "  'stove',\n",
       "  'purple potato',\n",
       "  'yellow potato',\n",
       "  'meal',\n",
       "  'cookbook',\n",
       "  'knife',\n",
       "  'north',\n",
       "  'south',\n",
       "  'east',\n",
       "  'west'],\n",
       " 'description': \"-= Corridor =-\\nYou've just walked into a corridor.\\n\\n\\n\\nYou don't like doors? Why not try going east, that entranceway is unblocked. There is an exit to the north. Don't worry, it is unguarded. You need an unblocked exit? You should try going south.\",\n",
       " 'facts': [Proposition('at', (Variable('P', 'P'), Variable('corridor', 'r'))),\n",
       "  Proposition('at', (Variable('fridge', 'c'), Variable('kitchen', 'r'))),\n",
       "  Proposition('at', (Variable('oven', 'oven'), Variable('kitchen', 'r'))),\n",
       "  Proposition('at', (Variable('sofa', 's'), Variable('livingroom', 'r'))),\n",
       "  Proposition('at', (Variable('toilet', 's'), Variable('bathroom', 'r'))),\n",
       "  Proposition('at', (Variable('bed', 's'), Variable('bedroom', 'r'))),\n",
       "  Proposition('at', (Variable('counter', 's'), Variable('kitchen', 'r'))),\n",
       "  Proposition('at', (Variable('shelf', 's'), Variable('pantry', 'r'))),\n",
       "  Proposition('at', (Variable('table', 's'), Variable('kitchen', 'r'))),\n",
       "  Proposition('at', (Variable('stove', 'stove'), Variable('kitchen', 'r'))),\n",
       "  Proposition('base', (Variable('purple potato', 'f'), Variable('ingredient_0', 'ingredient'))),\n",
       "  Proposition('chopped', (Variable('ingredient_0', 'ingredient'),)),\n",
       "  Proposition('closed', (Variable('fridge', 'c'),)),\n",
       "  Proposition('closed', (Variable('frosted-glass door', 'd'),)),\n",
       "  Proposition('cookable', (Variable('yellow potato', 'f'),)),\n",
       "  Proposition('cookable', (Variable('purple potato', 'f'),)),\n",
       "  Proposition('cooking_location', (Variable('kitchen', 'r'), Variable('RECIPE', 'RECIPE'))),\n",
       "  Proposition('cuttable', (Variable('purple potato', 'f'),)),\n",
       "  Proposition('cuttable', (Variable('yellow potato', 'f'),)),\n",
       "  Proposition('east_of', (Variable('kitchen', 'r'), Variable('livingroom', 'r'))),\n",
       "  Proposition('east_of', (Variable('bathroom', 'r'), Variable('corridor', 'r'))),\n",
       "  Proposition('east_of', (Variable('pantry', 'r'), Variable('kitchen', 'r'))),\n",
       "  Proposition('edible', (Variable('meal', 'meal'),)),\n",
       "  Proposition('free', (Variable('corridor', 'r'), Variable('livingroom', 'r'))),\n",
       "  Proposition('free', (Variable('corridor', 'r'), Variable('bathroom', 'r'))),\n",
       "  Proposition('free', (Variable('bathroom', 'r'), Variable('corridor', 'r'))),\n",
       "  Proposition('free', (Variable('livingroom', 'r'), Variable('corridor', 'r'))),\n",
       "  Proposition('free', (Variable('corridor', 'r'), Variable('bedroom', 'r'))),\n",
       "  Proposition('free', (Variable('kitchen', 'r'), Variable('livingroom', 'r'))),\n",
       "  Proposition('free', (Variable('bedroom', 'r'), Variable('corridor', 'r'))),\n",
       "  Proposition('free', (Variable('livingroom', 'r'), Variable('kitchen', 'r'))),\n",
       "  Proposition('free', (Variable('slot_1', 'slot'),)),\n",
       "  Proposition('free', (Variable('slot_9', 'slot'),)),\n",
       "  Proposition('free', (Variable('slot_5', 'slot'),)),\n",
       "  Proposition('free', (Variable('slot_7', 'slot'),)),\n",
       "  Proposition('free', (Variable('slot_4', 'slot'),)),\n",
       "  Proposition('free', (Variable('slot_8', 'slot'),)),\n",
       "  Proposition('free', (Variable('slot_3', 'slot'),)),\n",
       "  Proposition('free', (Variable('slot_6', 'slot'),)),\n",
       "  Proposition('free', (Variable('slot_2', 'slot'),)),\n",
       "  Proposition('free', (Variable('slot_0', 'slot'),)),\n",
       "  Proposition('in', (Variable('ingredient_0', 'ingredient'), Variable('RECIPE', 'RECIPE'))),\n",
       "  Proposition('inedible', (Variable('yellow potato', 'f'),)),\n",
       "  Proposition('inedible', (Variable('purple potato', 'f'),)),\n",
       "  Proposition('ingredient_1', (Variable('purple potato', 'f'),)),\n",
       "  Proposition('link', (Variable('kitchen', 'r'), Variable('frosted-glass door', 'd'), Variable('pantry', 'r'))),\n",
       "  Proposition('link', (Variable('pantry', 'r'), Variable('frosted-glass door', 'd'), Variable('kitchen', 'r'))),\n",
       "  Proposition('needs_cooking', (Variable('yellow potato', 'f'),)),\n",
       "  Proposition('needs_cooking', (Variable('purple potato', 'f'),)),\n",
       "  Proposition('north_of', (Variable('corridor', 'r'), Variable('livingroom', 'r'))),\n",
       "  Proposition('north_of', (Variable('bedroom', 'r'), Variable('corridor', 'r'))),\n",
       "  Proposition('on', (Variable('purple potato', 'f'), Variable('counter', 's'))),\n",
       "  Proposition('on', (Variable('yellow potato', 'f'), Variable('counter', 's'))),\n",
       "  Proposition('on', (Variable('cookbook', 'o'), Variable('counter', 's'))),\n",
       "  Proposition('on', (Variable('knife', 'o'), Variable('table', 's'))),\n",
       "  Proposition('out', (Variable('meal', 'meal'), Variable('RECIPE', 'RECIPE'))),\n",
       "  Proposition('roasted', (Variable('ingredient_0', 'ingredient'),)),\n",
       "  Proposition('sharp', (Variable('knife', 'o'),)),\n",
       "  Proposition('south_of', (Variable('corridor', 'r'), Variable('bedroom', 'r'))),\n",
       "  Proposition('south_of', (Variable('livingroom', 'r'), Variable('corridor', 'r'))),\n",
       "  Proposition('uncut', (Variable('yellow potato', 'f'),)),\n",
       "  Proposition('uncut', (Variable('purple potato', 'f'),)),\n",
       "  Proposition('west_of', (Variable('livingroom', 'r'), Variable('kitchen', 'r'))),\n",
       "  Proposition('west_of', (Variable('corridor', 'r'), Variable('bathroom', 'r'))),\n",
       "  Proposition('west_of', (Variable('kitchen', 'r'), Variable('pantry', 'r')))],\n",
       " 'inventory': 'You are carrying nothing.'}"
      ]
     },
     "metadata": {},
     "output_type": "display_data"
    }
   ],
   "source": [
    "display(obs)\n",
    "display(debug_info)"
   ]
  },
  {
   "cell_type": "code",
   "execution_count": 11,
   "metadata": {},
   "outputs": [
    {
     "data": {
      "text/plain": [
       "State(literals=frozenset({cookable(purple potato:f), edible(meal:meal), free(kitchen:r,livingroom:r), at(counter:s,kitchen:r), free(corridor:r,bathroom:r), sharp(knife:o), at(sofa:s,livingroom:r), west_of(livingroom:r,kitchen:r), east_of(bathroom:r,corridor:r), uncut(purple potato:f), chopped(ingredient_0:ingredient), roasted(ingredient_0:ingredient), base(purple potato:f,ingredient_0:ingredient), closed(frosted-glass door:d), east_of(pantry:r,kitchen:r), free(livingroom:r,corridor:r), cooking_location(kitchen:r,RECIPE:RECIPE), cuttable(yellow potato:f), link(pantry:r,frosted-glass door:d,kitchen:r), free(slot_2:slot), cookable(yellow potato:f), free(slot_3:slot), free(slot_7:slot), ingredient_1(purple potato:f), free(livingroom:r,kitchen:r), needs_cooking(yellow potato:f), needs_cooking(purple potato:f), on(purple potato:f,counter:s), at(table:s,kitchen:r), uncut(yellow potato:f), at(P:P,corridor:r), free(slot_5:slot), closed(fridge:c), west_of(kitchen:r,pantry:r), free(slot_9:slot), at(oven:oven,kitchen:r), north_of(bedroom:r,corridor:r), east_of(kitchen:r,livingroom:r), west_of(corridor:r,bathroom:r), in(ingredient_0:ingredient,RECIPE:RECIPE), south_of(corridor:r,bedroom:r), free(bathroom:r,corridor:r), on(yellow potato:f,counter:s), free(slot_6:slot), free(slot_4:slot), on(cookbook:o,counter:s), cuttable(purple potato:f), at(shelf:s,pantry:r), inedible(yellow potato:f), at(toilet:s,bathroom:r), free(corridor:r,livingroom:r), at(bed:s,bedroom:r), on(knife:o,table:s), at(stove:stove,kitchen:r), free(slot_8:slot), out(meal:meal,RECIPE:RECIPE), at(fridge:c,kitchen:r), free(slot_1:slot), free(bedroom:r,corridor:r), free(corridor:r,bedroom:r), free(slot_0:slot), north_of(corridor:r,livingroom:r), inedible(purple potato:f), south_of(livingroom:r,corridor:r), link(kitchen:r,frosted-glass door:d,pantry:r)}), objects=frozenset({shelf:s, counter:s, east:null, meal:meal, frosted-glass door:d, west:null, yellow potato:f, south:null, bed:s, knife:o, oven:oven, cookbook:o, purple potato:f, fridge:c, table:s, sofa:s, stove:stove, north:null, toilet:s}), goal=None)"
      ]
     },
     "metadata": {},
     "output_type": "display_data"
    }
   ],
   "source": [
    "import pddlgym\n",
    "from pddlgym_textworld import tw_infos_to_pddlgym\n",
    "\n",
    "pddlgym_state = tw_infos_to_pddlgym(debug_info)\n",
    "\n",
    "display(pddlgym_state)\n",
    "\n",
    "assert type(pddlgym_state) == pddlgym.structs.State"
   ]
  },
  {
   "cell_type": "code",
   "execution_count": 38,
   "metadata": {},
   "outputs": [],
   "source": [
    "import glob\n",
    "import gym\n",
    "\n",
    "from textworld.logic import GameLogic\n",
    "import textworld.gym.spaces\n",
    "import pddlgym\n",
    "from pddlgym.spaces import LiteralSpace, LiteralSetSpace, LiteralActionSpace\n",
    "\n",
    "from pddlgym_textworld import tw_gamelogic_to_pddlgym, tw_infos_to_pddlgym\n",
    "\n",
    "\n",
    "class TextworldWrapper(gym.Wrapper):\n",
    "    \"\"\"Turn a TextworldGym environment into one for PDDLGym.\n",
    "\n",
    "    Parameters\n",
    "    ----------\n",
    "    env : TextworldEnv\n",
    "    \"\"\"\n",
    "\n",
    "    def __init__(self, env, dynamic_action_space=False):\n",
    "        # action/observation spaces are not set in TextworldGymEnv somehow\n",
    "        # TODO make it parametric\n",
    "        env._action_space = textworld.gym.spaces.Char(256)\n",
    "        env._observation_space = textworld.gym.spaces.Char(4096)\n",
    "        \n",
    "        super().__init__(env)\n",
    "        \n",
    "        # TODO obtain the game logic from TetworldEnv instance?\n",
    "        self.game_logic = GameLogic.load(glob.glob('../textworld_data/logic/*.twl'))\n",
    "        self.domain = tw_gamelogic_to_pddlgym(self.game_logic)\n",
    "        \n",
    "        #self._domain_is_strips = _check_domain_for_strips(self.domain)\n",
    "        self._domain_is_strips = True\n",
    "        \n",
    "        # Initialize action space with problem-independent components\n",
    "        actions = list(self.domain.actions)\n",
    "        self.action_predicates = [self.domain.predicates[a] for a in actions]\n",
    "        self._dynamic_action_space = dynamic_action_space\n",
    "        if dynamic_action_space:\n",
    "            if self.domain.operators_as_actions and self._domain_is_strips:\n",
    "                self._action_space = LiteralActionSpace(\n",
    "                    self.domain, self.action_predicates,\n",
    "                    type_hierarchy=self.domain.type_hierarchy,\n",
    "                    type_to_parent_types=self.domain.type_to_parent_types)\n",
    "            else:\n",
    "                self._action_space = LiteralSpace(\n",
    "                    self.action_predicates, lit_valid_test=self._action_valid_test,\n",
    "                    type_hierarchy=self.domain.type_hierarchy,\n",
    "                    type_to_parent_types=self.domain.type_to_parent_types)\n",
    "        else:\n",
    "            self._action_space = LiteralSpace(self.action_predicates,\n",
    "                type_to_parent_types=self.domain.type_to_parent_types)\n",
    "        \n",
    "        # Initialize observation space with problem-independent components\n",
    "        self._observation_space = LiteralSetSpace(\n",
    "            set(self.domain.predicates.values()) - set(self.action_predicates),\n",
    "            type_hierarchy=self.domain.type_hierarchy,\n",
    "            type_to_parent_types=self.domain.type_to_parent_types)\n",
    "    \n",
    "    def reset(self):\n",
    "        obs, debug_info = super().reset()\n",
    "        \n",
    "        self._text_obs = obs\n",
    "        self._state = tw_infos_to_pddlgym(debug_info)\n",
    "        \n",
    "        # Handle problem-dependent action spaces\n",
    "        #self.action_space = self.env.action_space\n",
    "        #self.observation_space = self.env.observation_space\n",
    "        \n",
    "        #self._goal = self._problem.goal\n",
    "        #debug_info = self._get_debug_info()\n",
    "\n",
    "        return self._state, debug_info\n",
    "    \n",
    "    def step(self, action):\n",
    "        obs, reward, done, debug_info = super().step(text_action)\n",
    "        \n",
    "        self._text_obs = obs\n",
    "        self._state = tw_infos_to_pddlgym(debug_info)\n",
    "        \n",
    "        return self._state, reward, done, debug_info\n",
    "    \n",
    "    #@property\n",
    "    #def observation_space(self):\n",
    "    #    return self._observation_space\n",
    "\n",
    "    #@property\n",
    "    #def action_space(self):\n",
    "    #    #return self._action_space\n",
    "    #    return super().action_space"
   ]
  },
  {
   "cell_type": "code",
   "execution_count": 39,
   "metadata": {},
   "outputs": [
    {
     "data": {
      "text/plain": [
       "Character(256)"
      ]
     },
     "metadata": {},
     "output_type": "display_data"
    },
    {
     "data": {
      "text/plain": [
       "Character(4096)"
      ]
     },
     "metadata": {},
     "output_type": "display_data"
    }
   ],
   "source": [
    "display(env.action_space)\n",
    "display(env.observation_space)\n",
    "#display(env.reward_space)\n",
    "\n",
    "#import textworld.gym.spaces\n",
    "\n",
    "#env._action_space = textworld.gym.spaces.Char(256)\n",
    "#env._observation_space = textworld.gym.spaces.Char(4096)"
   ]
  },
  {
   "cell_type": "code",
   "execution_count": 40,
   "metadata": {},
   "outputs": [
    {
     "ename": "AttributeError",
     "evalue": "'list' object has no attribute 'values'",
     "output_type": "error",
     "traceback": [
      "\u001b[0;31m---------------------------------------------------------------------------\u001b[0m",
      "\u001b[0;31mAttributeError\u001b[0m                            Traceback (most recent call last)",
      "\u001b[0;32m<ipython-input-40-35377a4dfeb4>\u001b[0m in \u001b[0;36m<module>\u001b[0;34m\u001b[0m\n\u001b[0;32m----> 1\u001b[0;31m \u001b[0mpddlenv\u001b[0m \u001b[0;34m=\u001b[0m \u001b[0mTextworldWrapper\u001b[0m\u001b[0;34m(\u001b[0m\u001b[0menv\u001b[0m\u001b[0;34m)\u001b[0m\u001b[0;34m\u001b[0m\u001b[0;34m\u001b[0m\u001b[0m\n\u001b[0m",
      "\u001b[0;32m<ipython-input-38-7b00e1bb226f>\u001b[0m in \u001b[0;36m__init__\u001b[0;34m(self, env, dynamic_action_space)\u001b[0m\n\u001b[1;32m     50\u001b[0m         \u001b[0;32melse\u001b[0m\u001b[0;34m:\u001b[0m\u001b[0;34m\u001b[0m\u001b[0;34m\u001b[0m\u001b[0m\n\u001b[1;32m     51\u001b[0m             self._action_space = LiteralSpace(self.action_predicates,\n\u001b[0;32m---> 52\u001b[0;31m                 type_to_parent_types=self.domain.type_to_parent_types)\n\u001b[0m\u001b[1;32m     53\u001b[0m \u001b[0;34m\u001b[0m\u001b[0m\n\u001b[1;32m     54\u001b[0m         \u001b[0;31m# Initialize observation space with problem-independent components\u001b[0m\u001b[0;34m\u001b[0m\u001b[0;34m\u001b[0m\u001b[0;34m\u001b[0m\u001b[0m\n",
      "\u001b[0;32m/usr/local/Caskroom/miniconda/base/envs/loa/lib/python3.8/site-packages/pddlgym/parser.py\u001b[0m in \u001b[0;36mtype_to_parent_types\u001b[0;34m(self)\u001b[0m\n\u001b[1;32m    327\u001b[0m         \"\"\"For convenience, create map of subtype to all parent types\n\u001b[1;32m    328\u001b[0m         \"\"\"\n\u001b[0;32m--> 329\u001b[0;31m         \u001b[0;32mreturn\u001b[0m \u001b[0mself\u001b[0m\u001b[0;34m.\u001b[0m\u001b[0m_organize_parent_types\u001b[0m\u001b[0;34m(\u001b[0m\u001b[0;34m)\u001b[0m\u001b[0;34m\u001b[0m\u001b[0;34m\u001b[0m\u001b[0m\n\u001b[0m\u001b[1;32m    330\u001b[0m \u001b[0;34m\u001b[0m\u001b[0m\n\u001b[1;32m    331\u001b[0m     \u001b[0;32mdef\u001b[0m \u001b[0mdeterminize\u001b[0m\u001b[0;34m(\u001b[0m\u001b[0mself\u001b[0m\u001b[0;34m)\u001b[0m\u001b[0;34m:\u001b[0m\u001b[0;34m\u001b[0m\u001b[0;34m\u001b[0m\u001b[0m\n",
      "\u001b[0;32m/usr/local/Caskroom/miniconda/base/envs/loa/lib/python3.8/site-packages/pddlgym/parser.py\u001b[0m in \u001b[0;36m_organize_parent_types\u001b[0;34m(self)\u001b[0m\n\u001b[1;32m    348\u001b[0m         \"\"\"Create dict of type -> parent types from type hierarchy\n\u001b[1;32m    349\u001b[0m         \"\"\"\n\u001b[0;32m--> 350\u001b[0;31m         \u001b[0mtype_to_parent_types\u001b[0m \u001b[0;34m=\u001b[0m \u001b[0;34m{\u001b[0m \u001b[0mt\u001b[0m \u001b[0;34m:\u001b[0m \u001b[0;34m{\u001b[0m \u001b[0mt\u001b[0m \u001b[0;34m}\u001b[0m \u001b[0;32mfor\u001b[0m \u001b[0mt\u001b[0m \u001b[0;32min\u001b[0m \u001b[0mself\u001b[0m\u001b[0;34m.\u001b[0m\u001b[0mtypes\u001b[0m\u001b[0;34m.\u001b[0m\u001b[0mvalues\u001b[0m\u001b[0;34m(\u001b[0m\u001b[0;34m)\u001b[0m \u001b[0;34m}\u001b[0m\u001b[0;34m\u001b[0m\u001b[0;34m\u001b[0m\u001b[0m\n\u001b[0m\u001b[1;32m    351\u001b[0m         \u001b[0;32mfor\u001b[0m \u001b[0mt\u001b[0m \u001b[0;32min\u001b[0m \u001b[0mself\u001b[0m\u001b[0;34m.\u001b[0m\u001b[0mtypes\u001b[0m\u001b[0;34m.\u001b[0m\u001b[0mvalues\u001b[0m\u001b[0;34m(\u001b[0m\u001b[0;34m)\u001b[0m\u001b[0;34m:\u001b[0m\u001b[0;34m\u001b[0m\u001b[0;34m\u001b[0m\u001b[0m\n\u001b[1;32m    352\u001b[0m             \u001b[0mparent_types\u001b[0m \u001b[0;34m=\u001b[0m \u001b[0mself\u001b[0m\u001b[0;34m.\u001b[0m\u001b[0m_get_parent_types\u001b[0m\u001b[0;34m(\u001b[0m\u001b[0mt\u001b[0m\u001b[0;34m)\u001b[0m\u001b[0;34m\u001b[0m\u001b[0;34m\u001b[0m\u001b[0m\n",
      "\u001b[0;31mAttributeError\u001b[0m: 'list' object has no attribute 'values'"
     ]
    }
   ],
   "source": [
    "pddlenv = TextworldWrapper(env)"
   ]
  },
  {
   "cell_type": "code",
   "execution_count": null,
   "metadata": {},
   "outputs": [],
   "source": []
  }
 ],
 "metadata": {
  "kernelspec": {
   "display_name": "Python 3",
   "language": "python",
   "name": "python3"
  },
  "language_info": {
   "codemirror_mode": {
    "name": "ipython",
    "version": 3
   },
   "file_extension": ".py",
   "mimetype": "text/x-python",
   "name": "python",
   "nbconvert_exporter": "python",
   "pygments_lexer": "ipython3",
   "version": "3.8.5"
  }
 },
 "nbformat": 4,
 "nbformat_minor": 4
}
